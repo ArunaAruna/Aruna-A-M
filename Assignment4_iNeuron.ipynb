{
 "cells": [
  {
   "cell_type": "markdown",
   "metadata": {},
   "source": [
    "1.1 Write a Python Program (with class concept) to find the area of triangle using the below formula.<br>\n",
    "    area=(s$*$(s-a)$*$(s-b)$*$(s-c))$**$0.5<br>\n",
    "    Function to take the length of sides of triangle from the user should be defined in the parent class and function to calculate the area should be defined in subclass."
   ]
  },
  {
   "cell_type": "code",
   "execution_count": 6,
   "metadata": {},
   "outputs": [
    {
     "name": "stdout",
     "output_type": "stream",
     "text": [
      "side1 a :3\n",
      "side2 b :3\n",
      "side3 c :3\n",
      "Area of a given triangle is 3.8971 sq units\n"
     ]
    }
   ],
   "source": [
    "class triangle():\n",
    "    def __init__(self,a,b,c):\n",
    "        self.a=a\n",
    "        self.b=b\n",
    "        self.c=c\n",
    "        \n",
    "class area(triangle):\n",
    "    def find_area(self):\n",
    "        s=(self.a+self.b+self.c)/2\n",
    "        A=((s*(s-self.a)*(s-self.b)*(s-self.c))**0.5)\n",
    "        print('Area of a given triangle is %0.4f sq units'%A )\n",
    "      \n",
    "object=area(int(input('side1 a :')),int(input('side2 b :')),int(input('side3 c :')))\n",
    "\n",
    "object.find_area()      \n",
    "        "
   ]
  },
  {
   "cell_type": "markdown",
   "metadata": {},
   "source": [
    "1.2 Write a function filter_long_words() that takes a list of words and an integer n and returs the list of words that are longer than n."
   ]
  },
  {
   "cell_type": "code",
   "execution_count": 7,
   "metadata": {},
   "outputs": [
    {
     "name": "stdout",
     "output_type": "stream",
     "text": [
      "Enter a list of words separated by comma: a,as,asd,asdf,wsded\n",
      "Your words list :  ['a', 'as', 'asd', 'asdf', 'wsded']\n",
      "Enter an integer value : 3\n",
      "The list of words which are longer than 3 character is : ['asdf', 'wsded']\n"
     ]
    }
   ],
   "source": [
    "list_word=input('Enter a list of words separated by comma: ')\n",
    "new_list=list_word.split(',')\n",
    "print('Your words list : ',new_list)\n",
    "n=int(input('Enter an integer value : '))\n",
    "def filter_long_words():\n",
    "    longer_list=[]\n",
    "    for i in new_list:\n",
    "        if len(i)>n:\n",
    "            longer_list.append(i)\n",
    "    print('The list of words which are longer than {} character is :'.format(n),longer_list)\n",
    "filter_long_words()"
   ]
  },
  {
   "cell_type": "markdown",
   "metadata": {},
   "source": [
    "2.1 Write a Python program using function concept that maps list of words into a list of integers representing the lengths of the corresponding words.<br>\n",
    "Hint: If a list [ab,cde,erty] is passed on to the python function output should come as [2,3,4]. Here 2,3,4 are the lengths of the words in the list."
   ]
  },
  {
   "cell_type": "code",
   "execution_count": 4,
   "metadata": {},
   "outputs": [
    {
     "name": "stdout",
     "output_type": "stream",
     "text": [
      "[4, 4, 5]\n"
     ]
    }
   ],
   "source": [
    "length_list=[]\n",
    "def find_length(list):\n",
    "    for x in list:\n",
    "        length_list.append(len(x))  \n",
    "find_length(['abcd','arun','kumar'])\n",
    "print(length_list)"
   ]
  },
  {
   "cell_type": "markdown",
   "metadata": {},
   "source": [
    "2.2 Write a Python Program which takes a character (i.e string of length 1) and returns True if it is vowel and False otherwise."
   ]
  },
  {
   "cell_type": "code",
   "execution_count": 5,
   "metadata": {},
   "outputs": [
    {
     "name": "stdout",
     "output_type": "stream",
     "text": [
      "Enter a character : a\n",
      "True\n"
     ]
    }
   ],
   "source": [
    "char=input('Enter a character : ')\n",
    "vowels=['a','e','i','o','u','A','E','I','O','U']\n",
    "for i in vowels:\n",
    "    if i==char:\n",
    "        print(True)\n",
    "        break\n",
    "else:\n",
    "    print(False)"
   ]
  },
  {
   "cell_type": "code",
   "execution_count": null,
   "metadata": {},
   "outputs": [],
   "source": []
  }
 ],
 "metadata": {
  "kernelspec": {
   "display_name": "Python 3",
   "language": "python",
   "name": "python3"
  },
  "language_info": {
   "codemirror_mode": {
    "name": "ipython",
    "version": 3
   },
   "file_extension": ".py",
   "mimetype": "text/x-python",
   "name": "python",
   "nbconvert_exporter": "python",
   "pygments_lexer": "ipython3",
   "version": "3.7.6"
  }
 },
 "nbformat": 4,
 "nbformat_minor": 4
}
