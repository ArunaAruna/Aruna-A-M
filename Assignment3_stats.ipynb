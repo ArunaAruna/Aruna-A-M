{
 "cells": [
  {
   "cell_type": "markdown",
   "metadata": {},
   "source": [
    "#### Problem statement 1:"
   ]
  },
  {
   "cell_type": "markdown",
   "metadata": {},
   "source": [
    "Blood glucose levels for obese patients have a mean of 100 with a standard deviation of 15. A researcher thinks that a diet high in raw cornstarch will have a positive effect on blood glucose levels. A sample of 36 patients who have tried the raw cornstarch diet have a mean glucose of 108. Test the hypothesis that the raw cornstarch had an effect or not."
   ]
  },
  {
   "cell_type": "markdown",
   "metadata": {},
   "source": [
    "#### Solution"
   ]
  },
  {
   "cell_type": "code",
   "execution_count": 9,
   "metadata": {},
   "outputs": [
    {
     "name": "stdout",
     "output_type": "stream",
     "text": [
      "accept null hypothesis\n"
     ]
    }
   ],
   "source": [
    "import math\n",
    "import scipy\n",
    "\n",
    "\n",
    "pmean=100\n",
    "pstd=15\n",
    "n=36\n",
    "smean=108\n",
    "\n",
    "#Hypothesis\n",
    "#H0:Raw cornstarch have an effect\n",
    "#H1: Raw cornstarch does not have an effect (two tail test)\n",
    "\n",
    "se=pstd/math.sqrt(n)\n",
    "\n",
    "z=(108-100)/se\n",
    "p=scipy.special.ndtr(z)\n",
    "if p<0.05:\n",
    "    print('reject null hypothesis')\n",
    "    \n",
    "else:\n",
    "    print('accept null hypothesis')"
   ]
  },
  {
   "cell_type": "markdown",
   "metadata": {},
   "source": [
    "#### Problem statement 2:"
   ]
  },
  {
   "cell_type": "markdown",
   "metadata": {},
   "source": [
    "In one state, 52% of the voters are Republicans, and 48% are Democrats. In a second state, 47% of the voters are Republicans, and 53% are Democrats. Suppose a simple random sample of 100 voters are surveyed from each state.<br>\n",
    "What is the probability that the survey will show a greater percentage of Republican voters in the second state than in the first state?\n"
   ]
  },
  {
   "cell_type": "markdown",
   "metadata": {},
   "source": [
    "#### Solutions"
   ]
  },
  {
   "cell_type": "code",
   "execution_count": 14,
   "metadata": {},
   "outputs": [
    {
     "name": "stdout",
     "output_type": "stream",
     "text": [
      "the probability that the survey will show a greater percentage of Republican voters in the second state than in the first state is 0.24\n"
     ]
    }
   ],
   "source": [
    "import math\n",
    "import scipy\n",
    "\n",
    "n1=100\n",
    "n2=100\n",
    "p1=0.52 #probability of republicans in state1\n",
    "p2=0.47 #probability of republicans in state2\n",
    "\n",
    "d=0.52-0.47 #mean of difference in sample\n",
    "s=math.sqrt((p1*(1-p1)/n1)+(p2*(1-p2)/n2)) #standard deviation of the difference\n",
    "\n",
    "#to find probability p1<p1 means p1-p2<0\n",
    "x=0\n",
    "z=(x-d)/s\n",
    "a=scipy.special.ndtr(z)\n",
    "print(\"the probability that the survey will show a greater percentage of Republican voters in the second state than in the first state is\",\"%.2f\" % a)\n",
    "\n",
    "\n"
   ]
  },
  {
   "cell_type": "markdown",
   "metadata": {},
   "source": [
    "#### Problem statement 3:"
   ]
  },
  {
   "cell_type": "markdown",
   "metadata": {},
   "source": [
    "You take the SAT score 1100. The mean score for the SAT is 1026 and the standard deviation is 209. How well you score on the test compared to the average test taker?\n"
   ]
  },
  {
   "cell_type": "markdown",
   "metadata": {},
   "source": [
    "#### Solution"
   ]
  },
  {
   "cell_type": "code",
   "execution_count": 15,
   "metadata": {},
   "outputs": [
    {
     "name": "stdout",
     "output_type": "stream",
     "text": [
      "I scored 13.835565843531894% greater than average SAT score\n"
     ]
    }
   ],
   "source": [
    "import scipy.stats\n",
    "x=1100\n",
    "m=1026\n",
    "s=209\n",
    "\n",
    "z=(x-m)/s\n",
    "\n",
    "k=scipy.stats.norm.cdf(z)\n",
    "a=(k-0.5)*100\n",
    "print(\"I scored {}% greater than average SAT score\".format(a))\n",
    "\n",
    "\n"
   ]
  },
  {
   "cell_type": "code",
   "execution_count": null,
   "metadata": {},
   "outputs": [],
   "source": []
  }
 ],
 "metadata": {
  "kernelspec": {
   "display_name": "Python 3",
   "language": "python",
   "name": "python3"
  },
  "language_info": {
   "codemirror_mode": {
    "name": "ipython",
    "version": 3
   },
   "file_extension": ".py",
   "mimetype": "text/x-python",
   "name": "python",
   "nbconvert_exporter": "python",
   "pygments_lexer": "ipython3",
   "version": "3.7.6"
  }
 },
 "nbformat": 4,
 "nbformat_minor": 4
}
