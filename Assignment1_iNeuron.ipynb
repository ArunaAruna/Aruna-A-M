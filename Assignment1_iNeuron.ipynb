{
 "cells": [
  {
   "cell_type": "markdown",
   "metadata": {},
   "source": [
    "Task 1"
   ]
  },
  {
   "cell_type": "markdown",
   "metadata": {},
   "source": [
    "1. Write a program which will find all such numbers which are divisible by 7 but are not multiple of 5, between 2000 and 3200(both included). The numbers obtained should be printed in a comma-seperated sequence on a single line. "
   ]
  },
  {
   "cell_type": "code",
   "execution_count": null,
   "metadata": {},
   "outputs": [],
   "source": [
    "k=list()\n",
    "for x in range(2000,3201):\n",
    "    if x%7==0 and x%5!=0:\n",
    "        k.append(x)\n",
    "print(str(k)[1:-1])"
   ]
  },
  {
   "cell_type": "markdown",
   "metadata": {},
   "source": [
    "2. Write a python program to accept the user's first and last name and then getting them printed in the reverse order with a space between first name and last name."
   ]
  },
  {
   "cell_type": "code",
   "execution_count": null,
   "metadata": {},
   "outputs": [],
   "source": [
    "first_name=input('Enter your first name:')\n",
    "last_name=input('Enter your last name:')\n",
    "new_first=first_name[::-1]\n",
    "new_last=last_name[::-1]\n",
    "print('Reversed name is : {} {}'.format(new_first,new_last))"
   ]
  },
  {
   "cell_type": "markdown",
   "metadata": {},
   "source": [
    "3. Write a Python program to find the volume of a sphere with diameter 12cm."
   ]
  },
  {
   "cell_type": "code",
   "execution_count": null,
   "metadata": {},
   "outputs": [],
   "source": [
    "diameter=12\n",
    "radius=diameter/2\n",
    "pi=3.142\n",
    "volume_sphere=(4/3*pi*(radius**3))\n",
    "print('The volume of the sphere is : ',volume_sphere,'cubic cm')"
   ]
  },
  {
   "cell_type": "markdown",
   "metadata": {},
   "source": [
    "4. Write a program which accepts a sequence of comma-separated numbers from the console and generate a list."
   ]
  },
  {
   "cell_type": "code",
   "execution_count": null,
   "metadata": {},
   "outputs": [],
   "source": [
    "nums=input('Enter some numbers : ')\n",
    "list_num=nums.split(',')\n",
    "nums_list=[x for x in list_num]\n",
    "print(nums_list)"
   ]
  },
  {
   "cell_type": "markdown",
   "metadata": {},
   "source": [
    " 5. Create below pattern using nested for loop in Python<br>\n",
    "   $*$<br>\n",
    "   $* *$<br>\n",
    "   $* * *$<br>\n",
    "   $* * * *$<br>\n",
    "   $* * * * *$<br>\n",
    "   $* * * *$<br>\n",
    "   $* * *$<br>\n",
    "   $* *$<br>\n",
    "   $*$"
   ]
  },
  {
   "cell_type": "code",
   "execution_count": null,
   "metadata": {},
   "outputs": [],
   "source": [
    "for x in range(1,6):\n",
    "    for y in range(1,6):\n",
    "        if (y<=x):\n",
    "            print('*',end=' ')\n",
    "        y=y+1\n",
    "    x+=1\n",
    "    print('\\n')\n",
    "for a in range(1,5):\n",
    "    for b in range(1,5):\n",
    "        if ((5-b)>=a):\n",
    "            print('*',end=' ')\n",
    "        b+=1\n",
    "    a+=1\n",
    "    print('\\n')"
   ]
  },
  {
   "cell_type": "markdown",
   "metadata": {},
   "source": [
    "6. Write a program to reverse a word after accepting the input from user "
   ]
  },
  {
   "cell_type": "code",
   "execution_count": null,
   "metadata": {},
   "outputs": [],
   "source": [
    "word=input('Enter the word which you want to reverse: ')\n",
    "new_word=word[::-1]\n",
    "print(new_word)\n"
   ]
  },
  {
   "cell_type": "markdown",
   "metadata": {},
   "source": [
    "7. Write a Python program to print the given string in the format specified in the sample output.<br>\n",
    "WE, THE PEOPLE OF INDIA, having solemnly resolved to constitute India into a SOVEREIGN,SOCIALIST,SECULAR, DEMOCRATIC, REPUBLIC and to secure to all its citizens.\n",
    "\n",
    "Sample Output:<br>\n",
    " WE, THE PEOPLE OF INDIA,<br>\n",
    " >having solemnly resolved to constitute India into a SOVEREIGN,<br>\n",
    " >>SOCIALIST,SECULAR, DEMOCRATIC, REPUBLIC<br> \n",
    " >>>and to secure to all its citizens."
   ]
  },
  {
   "cell_type": "code",
   "execution_count": null,
   "metadata": {},
   "outputs": [],
   "source": [
    "print('WE, THE PEOPLE OF INDIA,''\\n\\t''having solemnly resolved to constitute India into a SOVEREIGN,''\\n\\t\\t' 'SOCIALIST,SECULAR, DEMOCRATIC, REPUBLIC''\\n\\t\\t\\t'' and to secure to all its citizens.')"
   ]
  },
  {
   "cell_type": "code",
   "execution_count": null,
   "metadata": {},
   "outputs": [],
   "source": []
  }
 ],
 "metadata": {
  "kernelspec": {
   "display_name": "Python 3",
   "language": "python",
   "name": "python3"
  },
  "language_info": {
   "codemirror_mode": {
    "name": "ipython",
    "version": 3
   },
   "file_extension": ".py",
   "mimetype": "text/x-python",
   "name": "python",
   "nbconvert_exporter": "python",
   "pygments_lexer": "ipython3",
   "version": "3.7.6"
  }
 },
 "nbformat": 4,
 "nbformat_minor": 4
}
