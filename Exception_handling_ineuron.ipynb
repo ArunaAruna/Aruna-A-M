{
 "cells": [
  {
   "cell_type": "markdown",
   "metadata": {},
   "source": [
    "1. Write a function to compute 5/0 and use try/except to catch the exception"
   ]
  },
  {
   "cell_type": "code",
   "execution_count": 1,
   "metadata": {},
   "outputs": [
    {
     "name": "stdout",
     "output_type": "stream",
     "text": [
      "Computed value is an infinite value\n",
      "could not find the finite value of 5/0\n"
     ]
    }
   ],
   "source": [
    "# To compute 5/0 using try/except\n",
    "def compute():\n",
    "    try:\n",
    "        k=5/0\n",
    "    except:\n",
    "        print('Computed value is an infinite value')\n",
    "    else:\n",
    "        print(k)\n",
    "    finally:\n",
    "        print('could not find the finite value of 5/0')\n",
    "compute()"
   ]
  },
  {
   "cell_type": "markdown",
   "metadata": {},
   "source": [
    "2. Implement a python program to generate all sentences where subject is in ['Americans','Indians'] and verb is in ['Play','watch'] and the object is in ['Baseball','Cricket'].<br>\n",
    "Hint: Subject,Verb and Object should be declared in the program as shown below.<br>\n",
    "subject=['Americans','Indians']<br>\n",
    "Verb=['play','watch']<br>\n",
    "Object=['Baseball','Cricket']<br>\n",
    "\n",
    "Output should come as below:<br>\n",
    "Americans play Baseball<br>\n",
    "Americans play Cricket<br>\n",
    "Americans watch Baseball<br>\n",
    "Americans watch Cricket<br>\n",
    "Indians play Baseball<br>\n",
    "Indians play Cricket<br>\n",
    "Indians watch Baseball<br>\n",
    "Indians watch Cricket\n",
    "\n"
   ]
  },
  {
   "cell_type": "code",
   "execution_count": 2,
   "metadata": {},
   "outputs": [
    {
     "name": "stdout",
     "output_type": "stream",
     "text": [
      "Americans play Baseball\n",
      "Americans play Cricket\n",
      "Americans watch Baseball\n",
      "Americans watch Cricket\n",
      "Indians play Baseball\n",
      "Indians play Cricket\n",
      "Indians watch Baseball\n",
      "Indians watch Cricket\n"
     ]
    }
   ],
   "source": [
    "for sub in ['Americans','Indians']:\n",
    "    for verb in ['play','watch']:\n",
    "        for obj in ['Baseball','Cricket']:\n",
    "            print('{} {} {}'.format(sub,verb,obj))"
   ]
  },
  {
   "cell_type": "code",
   "execution_count": null,
   "metadata": {},
   "outputs": [],
   "source": []
  }
 ],
 "metadata": {
  "kernelspec": {
   "display_name": "Python 3",
   "language": "python",
   "name": "python3"
  },
  "language_info": {
   "codemirror_mode": {
    "name": "ipython",
    "version": 3
   },
   "file_extension": ".py",
   "mimetype": "text/x-python",
   "name": "python",
   "nbconvert_exporter": "python",
   "pygments_lexer": "ipython3",
   "version": "3.7.6"
  }
 },
 "nbformat": 4,
 "nbformat_minor": 4
}
