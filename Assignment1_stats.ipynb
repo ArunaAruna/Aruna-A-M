{
 "cells": [
  {
   "cell_type": "markdown",
   "metadata": {},
   "source": [
    "### Calculate the mean, median, mode and standard deviation for the problem statements 1 and 2"
   ]
  },
  {
   "cell_type": "markdown",
   "metadata": {},
   "source": [
    "#### Problem statement 1"
   ]
  },
  {
   "cell_type": "markdown",
   "metadata": {},
   "source": [
    "The marks awarded for an assignment set for a year 8 class of 20 students were as follows:<br>\n",
    "6,7,5,7,7,8,7,6,9,7,4,10,6,8,8,9,5,6,4,8"
   ]
  },
  {
   "cell_type": "code",
   "execution_count": 1,
   "metadata": {},
   "outputs": [
    {
     "name": "stdout",
     "output_type": "stream",
     "text": [
      "mean of given data is :  6.85\n",
      "median of given data is : 7.0\n",
      "mode of given data is : 7\n",
      "standard deviation of given data is : 1.5898113095584647\n"
     ]
    }
   ],
   "source": [
    "import numpy as np\n",
    "import scipy\n",
    "from scipy import stats\n",
    "\n",
    "data=[6,7,5,7,7,8,7,6,9,7,4,10,6,8,8,9,5,6,4,8]\n",
    "\n",
    "#print(scipy.mean(data))\n",
    "print(\"mean of given data is : \",np.mean(data))\n",
    "print(\"median of given data is :\",np.median(data))\n",
    "print(\"mode of given data is :\",(stats.mode(data)[0][0]))\n",
    "print(\"standard deviation of given data is :\",np.std(data))\n",
    "\n",
    "\n"
   ]
  },
  {
   "cell_type": "markdown",
   "metadata": {},
   "source": [
    "#### Problem statement 2"
   ]
  },
  {
   "cell_type": "markdown",
   "metadata": {},
   "source": [
    "The number of calls from motorists per day for roadside services was recorded for a particular month:<br>\n",
    "28,122,217,130,120,86,80,90,140,120,70,40,145,113,90,68,174,194,170,100,75,104,97,75,123,100,75,104,97,75,123,100,89,120,109"
   ]
  },
  {
   "cell_type": "code",
   "execution_count": 17,
   "metadata": {},
   "outputs": [
    {
     "name": "stdout",
     "output_type": "stream",
     "text": [
      "mean of given data is :  107.51428571428572\n",
      "median of given data is : 100.0\n",
      "mode of given data is : 75\n",
      "standard deviation of given data is : 38.77287080168403\n"
     ]
    }
   ],
   "source": [
    "import numpy as np\n",
    "import scipy\n",
    "from scipy import stats\n",
    "\n",
    "data=[28,122,217,130,120,86,80,90,140,120,70,40,145,113,90,68,174,194,170,100,75,104,97,75,123,100,75,104,97,75,123,100,89,120,109]\n",
    "\n",
    "#print(scipy.mean(data))\n",
    "print(\"mean of given data is : \",np.mean(data))\n",
    "print(\"median of given data is :\",np.median(data))\n",
    "print(\"mode of given data is :\",(stats.mode(data)[0][0]))\n",
    "print(\"standard deviation of given data is :\",np.std(data))"
   ]
  },
  {
   "cell_type": "markdown",
   "metadata": {},
   "source": [
    "#### Problem statement 3:"
   ]
  },
  {
   "cell_type": "markdown",
   "metadata": {},
   "source": [
    "The number of times I go to the gym in weekdays, are given below along with its associated probability:<br>\n",
    "x=0,1,2,3,4,5<br>\n",
    "f(x)=0.09,0.15,0.40,0.25,0.10,0.01"
   ]
  },
  {
   "cell_type": "code",
   "execution_count": 6,
   "metadata": {},
   "outputs": [
    {
     "name": "stdout",
     "output_type": "stream",
     "text": [
      "mean of discrete random variable x is :  2.15\n",
      "variance of x is :  1.2275\n"
     ]
    }
   ],
   "source": [
    "import statistics\n",
    "import numpy as np\n",
    "x=[0,1,2,3,4,5]\n",
    "x_arr=np.array(x)\n",
    "f=[0.09,0.15,0.40,0.25,0.10,0.01]\n",
    "f_arr=np.array(f)\n",
    "\n",
    "m=np.sum(x_arr*f_arr) #formula to calculate mean of discrete random variable\n",
    "var=np.sum(x_arr*x_arr*f)-m**2 #formula to calculate variance\n",
    "\n",
    "print(\"mean of discrete random variable x is : \",m)\n",
    "print(\"variance of x is : \",var)\n"
   ]
  },
  {
   "cell_type": "markdown",
   "metadata": {},
   "source": [
    "#### Problem statement 4:\n"
   ]
  },
  {
   "cell_type": "markdown",
   "metadata": {},
   "source": [
    "Let the continuous random variable D denote the diameter of the hole drilled in an alumium sheet. The target diameter to be achieved is 12.5mm. Random disturbances in the process often result in inaccuracy. <br>\n",
    "Historical data shows that the distribution of D can be modelled by the PDF (d) = 20e-20(d-12.5), d>=12.5. If a part with diameter> 12.6mm needs to be scrapped, what is the proportion of those parts? What is the CDF when the diameter is of 11mm? what is your conclusion regarding the proportion of scraps?"
   ]
  },
  {
   "cell_type": "code",
   "execution_count": 3,
   "metadata": {},
   "outputs": [
    {
     "name": "stdout",
     "output_type": "stream",
     "text": [
      "proportion of parts between 12.5mm and 12.6mm is :  5.33599999999998 mm\n"
     ]
    }
   ],
   "source": [
    "#To find the proportion from 12.5 mm to 12.6mm\n",
    "from scipy import integrate\n",
    "import numpy as np\n",
    "\n",
    "e=2.718 #Taking logarithmic e value upto 3 decimal places\n",
    "#D=(20*e-20*(x-12.5))\n",
    "\n",
    "def D(x):\n",
    "    return 20*e-20*(x-12.5)\n",
    "\n",
    "I,err=map(float,integrate.quad(D,12.5,12.6))\n",
    "\n",
    "print(\"proportion of parts between 12.5mm and 12.6mm is : \", I,\"mm\")\n",
    "\n"
   ]
  },
  {
   "cell_type": "code",
   "execution_count": 26,
   "metadata": {},
   "outputs": [
    {
     "name": "stdout",
     "output_type": "stream",
     "text": [
      "CDF when diameter is 11mm is : 2137.9600000000005 mm\n"
     ]
    }
   ],
   "source": [
    "# CDF between 0mm and 11mm\n",
    "cdf=integrate.quad(D,0,11)\n",
    "\n",
    "print('CDF when diameter is 11mm is :',cdf[0],'mm')"
   ]
  },
  {
   "cell_type": "markdown",
   "metadata": {},
   "source": [
    "#### Problem statement 5:\n"
   ]
  },
  {
   "cell_type": "markdown",
   "metadata": {},
   "source": [
    "A company manufactures LED bulbs with a faulty rate of 30%. If I randomly select 6 chosen LED's, what is probabily of having 2 faulty LED's in my sample?<br>\n",
    "Calculate the average value of this process. Also evaluate the standard deviation associated with it."
   ]
  },
  {
   "cell_type": "code",
   "execution_count": 59,
   "metadata": {},
   "outputs": [
    {
     "name": "stdout",
     "output_type": "stream",
     "text": [
      "probability of getting 2 faulty LED's is : 0.32413499999999995\n",
      "average value is : 1.7999999999999998\n",
      "variance is :  1.2599999999999998\n",
      "standard deviation is :  1.1224972160321822\n"
     ]
    }
   ],
   "source": [
    "# Problem follows binomial distribution\n",
    "\n",
    "import scipy.stats \n",
    "import math\n",
    "\n",
    "prob=scipy.stats.binom.pmf(2,6,0.3) #probability mass function \n",
    "\n",
    "m,var=scipy.stats.binom.stats(6,0.3,moments='mv') #finding moments\n",
    "\n",
    "print(\"probability of getting 2 faulty LED's is :\" ,prob)\n",
    "print('average value is :',m)\n",
    "print('variance is : ',var)\n",
    "print('standard deviation is : ',math.sqrt(var))"
   ]
  },
  {
   "cell_type": "markdown",
   "metadata": {},
   "source": [
    "#### Problem statement 6:\n"
   ]
  },
  {
   "cell_type": "markdown",
   "metadata": {},
   "source": [
    "Gaurav and Barakha are both preparing for entrance exam. Gaurav attempts to solve 8 questions per day with a correction rate 75%, while Barakha averages around 12 questions per day with a corrections rate of 45%. What is the probability that each of them will solve 5 questions correctly? What happens in cases of 4 and 6 correct solutions? What do you infer from it? What are the two main governing factors affecting their ability to solve questions correctly? Give a pictorial representaion of the same to validate your answer."
   ]
  },
  {
   "cell_type": "code",
   "execution_count": 60,
   "metadata": {},
   "outputs": [
    {
     "name": "stdout",
     "output_type": "stream",
     "text": [
      "Probability of Gaurav solving 5 questions : 0.20764160156250022\n",
      "Probability of Barakha solving 5 questions : 0.22249823843265792\n",
      "Probability of Gaurav solving 4 questions : 0.08651733398437506\n",
      "Probability of Barakha solving 6 questions : 0.21238468214026424\n"
     ]
    }
   ],
   "source": [
    "from scipy.stats import binom\n",
    "\n",
    "ng=8    #total questions guarav solves \n",
    "pg=0.75 #success rate of gaurav\n",
    "\n",
    "nb=12  #total questions barakha solves\n",
    "pb=0.45 #success rate of barakha\n",
    "\n",
    "# probability of each of them solving 5 questions correctly\n",
    "probg1=binom.pmf(5,8,0.75)\n",
    "probb1=binom.pmf(5,12,0.45)\n",
    "\n",
    "# probability of gaurav solves 4 questions and barakha solves 6 questions\n",
    "probg2=binom.pmf(4,8,0.75)\n",
    "probb2=binom.pmf(6,12,0.45)\n",
    "\n",
    "print('Probability of Gaurav solving 5 questions :',probg1)\n",
    "print('Probability of Barakha solving 5 questions :',probb1)\n",
    "print('Probability of Gaurav solving 4 questions :',probg2)\n",
    "print('Probability of Barakha solving 6 questions :',probb2)\n"
   ]
  },
  {
   "cell_type": "markdown",
   "metadata": {},
   "source": [
    "INFERENCE: Since the accuracy of solving problem by Gaurav is high, probability of solving more questions will be more. Since the accuracy of solving problem by Barakha is low, probability of solving more questions will be less.  "
   ]
  },
  {
   "cell_type": "code",
   "execution_count": 76,
   "metadata": {},
   "outputs": [
    {
     "data": {
      "image/png": "[encoded data removed]",
      "text/plain": [
       "<Figure size 432x288 with 1 Axes>"
      ]
     },
     "metadata": {
      "needs_background": "light"
     },
     "output_type": "display_data"
    }
   ],
   "source": [
    "from matplotlib import pyplot as plt\n",
    "\n",
    "no_questions_g=[5,4]\n",
    "probg=[probg1,probg2]\n",
    "\n",
    "no_questions_b=[5,6]\n",
    "probb=[probb1,probb2]\n",
    "\n",
    "plt.scatter(no_questions_g,probg,color='red',s=100)\n",
    "plt.scatter(no_questions_b,probb,color='green',s=100)\n",
    "\n",
    "plt.title('Probability by no of questions')\n",
    "plt.xlabel('Number of questions')\n",
    "plt.ylabel('Probability')\n",
    "plt.legend(['Gaurav','Barakha'])\n",
    "plt.show()"
   ]
  },
  {
   "cell_type": "markdown",
   "metadata": {},
   "source": [
    "#### Problem statement 7:\n"
   ]
  },
  {
   "cell_type": "markdown",
   "metadata": {},
   "source": [
    "Customers arrive at a rate of 72 per hour to my shop. What is the probability of k customers arriving in 4 minutes?<br> a) 5 customers<br>\n",
    "b) not more than 3 customers<br>\n",
    "c) more than 3 customers<br>\n",
    "Give a pictorial representaion of the same to validate your answer\n"
   ]
  },
  {
   "cell_type": "code",
   "execution_count": 26,
   "metadata": {},
   "outputs": [
    {
     "name": "stdout",
     "output_type": "stream",
     "text": [
      "probability of getting 5 customers in 4 min is :  0.17474768364388296\n",
      "probability of getting more than 3 customers in 4 min is :  0.29422991649656405\n",
      "probability of getting more than 3 customers in 4 min is :  0.705770083503436\n"
     ]
    },
    {
     "data": {
      "image/png": "[encoded data removed]",
      "text/plain": [
       "<Figure size 432x288 with 1 Axes>"
      ]
     },
     "metadata": {
      "needs_background": "light"
     },
     "output_type": "display_data"
    }
   ],
   "source": [
    "# Problem statement follows poissons distribution\n",
    "import scipy.stats\n",
    "from matplotlib import pyplot as plt\n",
    "import numpy as np\n",
    "m=(72*4)/60 #average customers in 4 min\n",
    "\n",
    "#solution for a\n",
    "a=scipy.stats.poisson.pmf(5,m)\n",
    "print(\"probability of getting 5 customers in 4 min is : \",a)\n",
    "\n",
    "#Solution for b\n",
    "b=sum(scipy.stats.poisson.pmf([0,1,2,3],m))\n",
    "print(\"probability of getting more than 3 customers in 4 min is : \",b)\n",
    "\n",
    "#Solution for c\n",
    "c=1-sum(scipy.stats.poisson.pmf([0,1,2,3],m))\n",
    "print(\"probability of getting more than 3 customers in 4 min is : \",c)\n",
    "\n",
    "plt.scatter(5,a,color='red',s=50)\n",
    "plt.plot([0,1,2,3],scipy.stats.poisson.pmf([0,1,2,3],m),'bo')\n",
    "plt.plot(np.arange(4,50,1),scipy.stats.poisson.pmf(np.arange(4,50,1),m),color='green')\n",
    "plt.xlabel('Number of customers')\n",
    "plt.ylabel('Probability')\n",
    "plt.title('Probability by customers')\n",
    "plt.legend(['Not more than 3 cutomers','more than 3 customers','5 customers'])\n",
    "plt.show()\n",
    "\n"
   ]
  },
  {
   "cell_type": "markdown",
   "metadata": {},
   "source": [
    "#### Problem statement 9:"
   ]
  },
  {
   "cell_type": "markdown",
   "metadata": {},
   "source": [
    "Let the continuous random variable D denote the diameter of the hole drilled in an alumium sheet. The target diameter to be achieved is 12.5mm. Random disturbances in the process often result in inaccuracy. <br>\n",
    "Historical data shows that the distribution of D can be modelled by the PDF (d) = 20e-20(d-12.5), d>=12.5. If a part with diameter> 12.6mm needs to be scrapped, what is the proportion of those parts? What is the CDF when the diameter is of 11mm? what is your conclusion regarding the proportion of scraps?"
   ]
  },
  {
   "cell_type": "code",
   "execution_count": 59,
   "metadata": {},
   "outputs": [
    {
     "name": "stdout",
     "output_type": "stream",
     "text": [
      "proportion of parts between 12.5mm and 12.6mm is :  5.33599999999998 mm\n"
     ]
    }
   ],
   "source": [
    "#To find the proportion from 12.5 mm to 12.6mm\n",
    "from scipy import integrate\n",
    "\n",
    "e=2.718 #Taking logarithmic e value upto 3 decimal places\n",
    "#D=(20*e-20*(x-12.5))\n",
    "\n",
    "def D(x):\n",
    "    return 20*e-20*(x-12.5)\n",
    "\n",
    "I,err=map(float,integrate.quad(D,12.5,12.6))\n",
    "\n",
    "print(\"proportion of parts between 12.5mm and 12.6mm is : \", I,\"mm\")\n",
    "\n"
   ]
  },
  {
   "cell_type": "code",
   "execution_count": 60,
   "metadata": {},
   "outputs": [
    {
     "name": "stdout",
     "output_type": "stream",
     "text": [
      "CDF when diameter is 11mm is : 2137.9600000000005 mm\n"
     ]
    }
   ],
   "source": [
    "# CDF between 0mm and 11mm\n",
    "cdf=integrate.quad(D,0,11)\n",
    "\n",
    "print('CDF when diameter is 11mm is :',cdf[0],'mm')"
   ]
  },
  {
   "cell_type": "markdown",
   "metadata": {},
   "source": [
    "#### Problem statement 10:\n"
   ]
  },
  {
   "cell_type": "markdown",
   "metadata": {},
   "source": [
    "Please compute the following<br>\n",
    "a) P(Z>1.26),P(Z<-0.86),P(Z>-1.37),P(-1.25<Z<0.37),P(Z<=-0.46)<br>\n",
    "b) Find the value of z such that P(Z>z)=0.05<br>\n",
    "c) Find the value of z such that P(-z<Z<z)=0.99"
   ]
  },
  {
   "cell_type": "code",
   "execution_count": 34,
   "metadata": {},
   "outputs": [
    {
     "name": "stdout",
     "output_type": "stream",
     "text": [
      "Probability P(Z>1.26) is : 0.10383468112130043\n",
      "Probability P(Z<-0.86) is : 0.19489452125180842\n",
      "Probability P(Z>-1.37) is : 0.914656549178033\n",
      "Probability P(-1.25<Z<0.37) is : 0.5386589811336916\n",
      "Probability P(Z<=-4.6) is : 2.1124545922985606e-06\n"
     ]
    }
   ],
   "source": [
    "# solution for a\n",
    "import math\n",
    "from scipy import integrate\n",
    "import numpy as np\n",
    "\n",
    "s=1  #standard deviation \n",
    "a=0  #mean of standard normal distribution\n",
    "def f(x): #Alternatively scipy.stats.norm.cdf() can be used\n",
    "    return ((1/(s*math.sqrt(2*np.pi)))*math.exp(-((x-a)**2/(2*s**2))))\n",
    "\n",
    "\n",
    "#To find P(Z>1.26)\n",
    "y1=integrate.quad(f,1.26,np.inf)\n",
    "\n",
    "#To find P(Z<-0.86)\n",
    "y2=integrate.quad(f,-np.inf,-0.86)\n",
    "\n",
    "#To find P(Z>-1.37)\n",
    "y3=integrate.quad(f,-1.37,np.inf)\n",
    "\n",
    "#To find P(-1.25<Z<0.37)\n",
    "y4=integrate.quad(f,-1.25,0.37)\n",
    "\n",
    "#To find P(Z<=-4.6)\n",
    "y5=integrate.quad(f,-np.inf,-4.6)\n",
    "print('Probability P(Z>1.26) is :',y1[0])\n",
    "print('Probability P(Z<-0.86) is :',y2[0])\n",
    "print('Probability P(Z>-1.37) is :',y3[0])\n",
    "print('Probability P(-1.25<Z<0.37) is :',y4[0])\n",
    "print('Probability P(Z<=-4.6) is :',y5[0])\n"
   ]
  },
  {
   "cell_type": "code",
   "execution_count": 37,
   "metadata": {},
   "outputs": [
    {
     "name": "stdout",
     "output_type": "stream",
     "text": [
      "if z>1.6448536269514722,area will be 0.05\n"
     ]
    }
   ],
   "source": [
    "# Solution for b\n",
    "import scipy.stats as st\n",
    "print(\"if z>{},area will be 0.05\".format(st.norm.ppf(0.95)))\n",
    "\n"
   ]
  },
  {
   "cell_type": "code",
   "execution_count": 39,
   "metadata": {},
   "outputs": [
    {
     "name": "stdout",
     "output_type": "stream",
     "text": [
      "if -2.3263478740408408<z<2.3263478740408408,area will be 0.99\n"
     ]
    }
   ],
   "source": [
    "# Solution for c\n",
    "import scipy.stats as st\n",
    "print(\"if {}<z<{},area will be 0.99\".format(st.norm.ppf(0.01),-st.norm.ppf(0.01)))\n"
   ]
  },
  {
   "cell_type": "markdown",
   "metadata": {},
   "source": [
    "#### Problem statement 11:\n"
   ]
  },
  {
   "cell_type": "markdown",
   "metadata": {},
   "source": [
    "The current flow in a copper wire follow a normal distribution with a mean of 10mA and a variance of 4mA.<br>\n",
    "What is the probability that a current measurement will exceed 13mA? What is the probability that a current measurement is between 9 and 11mA? Determine the current measurement which has a probability of 0.98."
   ]
  },
  {
   "cell_type": "code",
   "execution_count": 48,
   "metadata": {},
   "outputs": [
    {
     "name": "stdout",
     "output_type": "stream",
     "text": [
      "probability of current exceeds 13mA is : 0.06680720126885485\n",
      "probability of current measurement between 9 and 11mA is : 0.3829249225480263\n"
     ]
    }
   ],
   "source": [
    "import math\n",
    "import numpy as np\n",
    "from scipy import integrate\n",
    "import scipy.stats as st\n",
    "\n",
    "\n",
    "def f(x):\n",
    "    a=10\n",
    "    s=2\n",
    "    return ((1/(s*math.sqrt(2*np.pi)))*math.exp(-((x-a)**2/(2*s**2))))\n",
    "\n",
    "#probability of current exceeding 13mA\n",
    "f1=integrate.quad(f,13,np.inf)\n",
    "\n",
    "#probability of current between 9 and 11mA\n",
    "f2=integrate.quad(f,9,11)\n",
    "\n",
    "print(\"probability of current exceeds 13mA is :\",f1[0])\n",
    "print(\"probability of current measurement between 9 and 11mA is :\",f2[0])\n",
    "\n",
    "\n",
    "\n"
   ]
  },
  {
   "cell_type": "markdown",
   "metadata": {},
   "source": [
    "#### Problem statement 12:\n"
   ]
  },
  {
   "cell_type": "markdown",
   "metadata": {},
   "source": [
    "The shaft in a piston has its diameter normally distributed with a mean of 0.2508 inch and a standard deviation of 0.0005 inch. The specifications of the shaft are 0.2500+/-0.0015 inch. What proportions of shafts are in sync with the specifications? If the process is centered so that the mean is equal to the target value of 0.2500, what proportions of shafts conform to the new specifications ? What is your conclusion from this experiment?"
   ]
  },
  {
   "cell_type": "code",
   "execution_count": 58,
   "metadata": {},
   "outputs": [
    {
     "name": "stdout",
     "output_type": "stream",
     "text": [
      "99.99978875453006% of shafts are in sync with specifications\n",
      "99.86501019683702% of shafts are in sync with specs with new center positions\n",
      "Inference from this experiment is that with the accurate of mean value, percentage of shafts whose diameter will be in sync with specs is reduced\n"
     ]
    }
   ],
   "source": [
    "import math\n",
    "import scipy.stats\n",
    "import numpy as np\n",
    "\n",
    "a=0.2508 #mean\n",
    "s=0.0005 #std\n",
    "def shaft(x):\n",
    "    return ((1/(s*math.sqrt(2*np.pi)))*math.exp(-((x-a)**2/(2*s**2))))\n",
    "\n",
    "#to find probability from 0.2485 to 2.5015\n",
    "\n",
    "k1=integrate.quad(shaft,0.2485,2.5015)\n",
    "\n",
    "print(\"{}% of shafts are in sync with specifications\".format(k1[0]*100))\n",
    "\n",
    "#with new centering positions\n",
    "a=0.25\n",
    "k2=integrate.quad(shaft,0.2485,2.5015)\n",
    "\n",
    "print(\"{}% of shafts are in sync with specs with new center positions\".format(k2[0]*100))\n",
    "\n",
    "print('Inference from this experiment is that with the accurate of mean value, percentage of shafts whose diameter will be in sync with specs is reduced')"
   ]
  },
  {
   "cell_type": "code",
   "execution_count": null,
   "metadata": {},
   "outputs": [],
   "source": []
  },
  {
   "cell_type": "code",
   "execution_count": null,
   "metadata": {},
   "outputs": [],
   "source": []
  }
 ],
 "metadata": {
  "kernelspec": {
   "display_name": "Python 3",
   "language": "python",
   "name": "python3"
  },
  "language_info": {
   "codemirror_mode": {
    "name": "ipython",
    "version": 3
   },
   "file_extension": ".py",
   "mimetype": "text/x-python",
   "name": "python",
   "nbconvert_exporter": "python",
   "pygments_lexer": "ipython3",
   "version": "3.7.6"
  }
 },
 "nbformat": 4,
 "nbformat_minor": 4
}
