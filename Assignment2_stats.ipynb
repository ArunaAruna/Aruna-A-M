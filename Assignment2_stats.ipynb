{
 "cells": [
  {
   "cell_type": "markdown",
   "metadata": {},
   "source": [
    "#### Problem statement 1:"
   ]
  },
  {
   "cell_type": "markdown",
   "metadata": {},
   "source": [
    "In each of the following situations state whether it is a correctly stated hypothesis testing problem and why?<br>\n",
    "1. H0: m=25, H1:m!=25\n",
    "2. H0: s>10, H1:s=10\n",
    "3. H0: x=50, H1:x!=50\n",
    "4. H0: p=0.1, H1:p=0.5\n",
    "5. H0: s=30, H1:s>30"
   ]
  },
  {
   "cell_type": "markdown",
   "metadata": {},
   "source": [
    "#### Solution"
   ]
  },
  {
   "cell_type": "markdown",
   "metadata": {},
   "source": [
    "1. This is correctly stated hypothesis because if m=25 is null hypothesis then m<25 and m>25, in other words m!=25 will be alternative hypothesis\n",
    "2. This hypothesis is not correct because if H0 is s>10 then H1 will be s<=10\n",
    "3. This is correctly stated hypothesis because if m=50 is null hypothesis then x<50 and x>50, in other words x!=50 will be alternative hypothesis\n",
    "4. This hypothesis is not correct because if H0 is p=0.1 then H1 will be p!=0.1\n",
    "5. This hypothesis is not correct because if H0 is s=30 then H1 will be s!=30"
   ]
  },
  {
   "cell_type": "markdown",
   "metadata": {},
   "source": [
    "#### Problem statement 2:"
   ]
  },
  {
   "cell_type": "markdown",
   "metadata": {},
   "source": [
    "The college bookstore tells prospective students that the average cost of its textbooks is Rs. 52 with a standard deviation of Rs. 4.50. A group of smart statistics students thinks that the average cost is higher. To test the bookstore's claim against their alternative, the student will select a random sample of size 100. Assume that the mean from their random sample is Rs. 52.80. Perform a hypothesis test at the 5% level of significance and state you decision."
   ]
  },
  {
   "cell_type": "markdown",
   "metadata": {},
   "source": [
    "#### Solution"
   ]
  },
  {
   "cell_type": "code",
   "execution_count": 1,
   "metadata": {},
   "outputs": [
    {
     "name": "stdout",
     "output_type": "stream",
     "text": [
      "reject null hypothesis\n"
     ]
    }
   ],
   "source": [
    "import math\n",
    "import scipy\n",
    "from scipy import special\n",
    "x=52\n",
    "s= 4.5\n",
    "m=52.8\n",
    "n=100\n",
    "a=0.05\n",
    "\n",
    "# Hypothesis:\n",
    "# H0: average cost of text books = 52\n",
    "# H1: average cost of text books != 52 -two tail test\n",
    "\n",
    "se=s/math.sqrt(n)\n",
    "z=(m-x)/se\n",
    "z1=-z  #since it is two tail test\n",
    "z2=z\n",
    "\n",
    "p=scipy.special.ndtr(z1) \n",
    "#print(p)\n",
    "if p<0.05:\n",
    "    print('reject null hypothesis')\n",
    "    \n",
    "else:\n",
    "    print('accept null hypothesis')\n",
    "\n"
   ]
  },
  {
   "cell_type": "markdown",
   "metadata": {},
   "source": [
    "#### Problem statement 3:"
   ]
  },
  {
   "cell_type": "markdown",
   "metadata": {},
   "source": [
    "A certain chemical pollutant in the Genesee River has been constant for several yeears with mean m=34ppm (parts per million) and standard deviation s=8ppm. A group of factory representitives whose comanies discharge liquids into the river is now claiming that they have lowered the average with improved filtration devices. A group of environmentalists will test to see if this is true at the 1% level of significance. Assume that their samples of size 50 gives a mean of 32.5ppm. Perform a hypothesis test at the 1% level of significance and state your decision"
   ]
  },
  {
   "cell_type": "markdown",
   "metadata": {},
   "source": [
    "#### Solution"
   ]
  },
  {
   "cell_type": "code",
   "execution_count": 2,
   "metadata": {},
   "outputs": [
    {
     "name": "stdout",
     "output_type": "stream",
     "text": [
      "accept null hypothesis\n",
      "we have to accept the statement stated by group of factory representitives\n"
     ]
    }
   ],
   "source": [
    "import math\n",
    "import scipy\n",
    "from scipy import special\n",
    "x=34\n",
    "s= 8\n",
    "m=32.5\n",
    "n=50\n",
    "a=0.01\n",
    "\n",
    "# Hypothesis:\n",
    "# H0: chemical pollutant in river = 34ppm\n",
    "# H1: chemical pollutant in rivers != 34 -two tail test\n",
    "\n",
    "se=s/math.sqrt(n)\n",
    "z=(m-x)/se\n",
    "z1=z  #since it is two tail test\n",
    "z2=-z\n",
    "#print(z1)\n",
    "p=scipy.special.ndtr(z1) \n",
    "#print(p)\n",
    "if p<0.01:\n",
    "    print('reject null hypothesis')\n",
    "    \n",
    "else:\n",
    "    print('accept null hypothesis')\n",
    "    \n",
    "print('we have to accept the statement stated by group of factory representitives')"
   ]
  },
  {
   "cell_type": "markdown",
   "metadata": {},
   "source": [
    "#### Problem statement 4:\n"
   ]
  },
  {
   "cell_type": "markdown",
   "metadata": {},
   "source": [
    "Based on population fingures and other general information on the U.S population, suppose it has estimated that, on an average, a family of four in the U.S. spends about $1135 annually on dental expenditures. Suppose further that a regional dental association wants to test to determine if this figure is accurate for their area of country. To test this, 22 families of 4 are randomly selected from the poplation in that area of the country and a log is kept of the family's dental expenditure for one year. The resulting data are given below. Assuming, that dental expenditures is normally destributed in the population, use the data and an alpha of 0.5 to test the dental association's hypothesis<br>\n",
    "1008,812,1117,1323,1308,1415,831,1021,1287,851,930,730,699,872,913,944,954,987,1695,995,1003,994"
   ]
  },
  {
   "cell_type": "markdown",
   "metadata": {},
   "source": [
    "####  Solution"
   ]
  },
  {
   "cell_type": "code",
   "execution_count": 3,
   "metadata": {},
   "outputs": [
    {
     "name": "stdout",
     "output_type": "stream",
     "text": [
      "reject null hypothesis\n"
     ]
    }
   ],
   "source": [
    "import math\n",
    "import numpy as np\n",
    "from scipy import stats\n",
    "from scipy.stats import ttest_1samp\n",
    "\n",
    "x=[1008,812,1117,1323,1308,1415,831,1021,1287,851,930,730,699,872,913,944,954,987,1695,995,1003,994]\n",
    "\n",
    "# Hypothesis:\n",
    "# H0: population mean=1135\n",
    "# H1: population mean !=1135 (Two tailed test)\n",
    "    \n",
    "ttest,pval=ttest_1samp(x,1135)\n",
    "\n",
    "if pval<0.5:\n",
    "    print(\"reject null hypothesis\")\n",
    "else:\n",
    "    print(\"accept null hypothesis\")"
   ]
  },
  {
   "cell_type": "markdown",
   "metadata": {},
   "source": [
    "#### Problem statement 5:"
   ]
  },
  {
   "cell_type": "markdown",
   "metadata": {},
   "source": [
    "In a report prepared by the Economic Research Department of a major bank the Department manager maintains that the average family income on Metropolls is $48,432. What do you conclude about the validity of the report if a random sample of 400 families shows and average income of 48,574 dollar with a standard deviation of 2000?"
   ]
  },
  {
   "cell_type": "markdown",
   "metadata": {},
   "source": [
    "#### Solution"
   ]
  },
  {
   "cell_type": "code",
   "execution_count": 4,
   "metadata": {},
   "outputs": [
    {
     "name": "stdout",
     "output_type": "stream",
     "text": [
      "accept null hypothesis\n",
      "we have to accept the report\n"
     ]
    }
   ],
   "source": [
    "import math\n",
    "import scipy\n",
    "from scipy import special\n",
    "x=48432\n",
    "s= 2000\n",
    "m=48574\n",
    "n=400\n",
    "a=0.05\n",
    "\n",
    "# Hypothesis:\n",
    "# H0: average family income is = 48432\n",
    "# H1:average family income is != 48432 -two tail test\n",
    "\n",
    "se=s/math.sqrt(n)\n",
    "z=(m-x)/se\n",
    "#print(z)\n",
    "z1=-z  #since it is two tail test\n",
    "z2=z\n",
    "\n",
    "p=scipy.special.ndtr(z1) \n",
    "#print(p)\n",
    "if p<0.05:\n",
    "    print('reject null hypothesis')\n",
    "    \n",
    "else:\n",
    "    print('accept null hypothesis')\n",
    "    \n",
    "print('we have to accept the report')"
   ]
  },
  {
   "cell_type": "markdown",
   "metadata": {},
   "source": [
    "#### Problem statement 6:"
   ]
  },
  {
   "cell_type": "markdown",
   "metadata": {},
   "source": [
    "Suppose that in past years the average price per square foot for warehouses in the United states has been 32.28 dollars. A national real estate investor wants to determine whether that figure has changed now. The investor hires a researcher who randomly samples 19 warehouses that are for sale across the united states and finds that the mean price per square foot is 31.67 dollars, with a standard deviation of 1.29 dollars.Assume the price of warehouse footage are normally distributed in population. Tf the researcher uses a 5% level of significance, what statistical conclusion can be reached? What are the hypothesis?"
   ]
  },
  {
   "cell_type": "markdown",
   "metadata": {},
   "source": [
    "#### Solution"
   ]
  },
  {
   "cell_type": "code",
   "execution_count": 5,
   "metadata": {},
   "outputs": [
    {
     "name": "stdout",
     "output_type": "stream",
     "text": [
      "reject null hypothesis\n"
     ]
    }
   ],
   "source": [
    "import math\n",
    "import numpy as np\n",
    "from scipy import stats\n",
    "\n",
    "x=32.28\n",
    "m=31.67\n",
    "n=19\n",
    "s=1.29\n",
    "\n",
    "# Hypothesis:\n",
    "# H0: population mean=32.38\n",
    "# H1: population mean !=32.38 (Two tailed test)\n",
    "\n",
    "se=s/math.sqrt(n)\n",
    "ttest=(m-x)/se\n",
    "pval=stats.t.sf(np.abs(ttest),n-1)\n",
    "\n",
    "if pval<0.05:\n",
    "    print(\"reject null hypothesis\")\n",
    "else:\n",
    "    print(\"accept null hypothesis\")\n",
    "\n"
   ]
  },
  {
   "cell_type": "markdown",
   "metadata": {},
   "source": [
    "#### Problem statement 8:"
   ]
  },
  {
   "cell_type": "markdown",
   "metadata": {},
   "source": [
    "Find the t-score for a sample size of 16 taken from a population with mean 10 when the sample mean is 12 and the sample standard deviation is 1.5"
   ]
  },
  {
   "cell_type": "code",
   "execution_count": 6,
   "metadata": {},
   "outputs": [
    {
     "name": "stdout",
     "output_type": "stream",
     "text": [
      "t-score is :  5.333333333333333\n"
     ]
    }
   ],
   "source": [
    "import math\n",
    "n=16\n",
    "sm=12\n",
    "s=1.5\n",
    "pm=10\n",
    "\n",
    "SE=s/math.sqrt(16)\n",
    "t=(sm-pm)/SE\n",
    "\n",
    "print('t-score is : ',t)\n"
   ]
  },
  {
   "cell_type": "markdown",
   "metadata": {},
   "source": [
    "#### Problem statement 9:"
   ]
  },
  {
   "cell_type": "markdown",
   "metadata": {},
   "source": [
    "Find the t-score below which we can expect 99% of samples will fall if samples of size 16 are taken from a normally distributed population"
   ]
  },
  {
   "cell_type": "markdown",
   "metadata": {},
   "source": [
    "#### Solution:"
   ]
  },
  {
   "cell_type": "code",
   "execution_count": 7,
   "metadata": {},
   "outputs": [
    {
     "name": "stdout",
     "output_type": "stream",
     "text": [
      "t value with p=0.99 and dof=15 is:  2.947\n"
     ]
    }
   ],
   "source": [
    "import math\n",
    "import numpy as np\n",
    "from scipy import stats\n",
    "\n",
    "dof=16-1\n",
    "p=0.99\n",
    "print('t value with p=0.99 and dof=15 is: ',2.947)\n",
    "\n"
   ]
  },
  {
   "cell_type": "markdown",
   "metadata": {},
   "source": [
    "#### Problem statement 10:"
   ]
  },
  {
   "cell_type": "markdown",
   "metadata": {},
   "source": [
    "If a random sample of size 25 drawn from a normal population gives a mean of 60 and a standard deviation of 4, find the range of t-scores where we can expect to find the middle 95% of all samples means. Compute the probability that (-0.05 < t < 0.1)"
   ]
  },
  {
   "cell_type": "markdown",
   "metadata": {},
   "source": [
    "#### Solution"
   ]
  },
  {
   "cell_type": "code",
   "execution_count": 8,
   "metadata": {},
   "outputs": [
    {
     "name": "stdout",
     "output_type": "stream",
     "text": [
      "The range of t in which 95% of sample means exists is -2.064 to +2.064\n",
      "probability in the range (-0.05 < t < 0.1) is :  0.019680605913527716\n"
     ]
    }
   ],
   "source": [
    "import math\n",
    "import numpy as np\n",
    "from scipy import stats\n",
    "\n",
    "x=60\n",
    "dof=25-1\n",
    "n=25\n",
    "s=4\n",
    "\n",
    "print('The range of t in which 95% of sample means exists is -2.064 to +2.064')\n",
    "\n",
    "\n",
    "\n",
    "se=s/math.sqrt(n)\n",
    "ttest1=0.1\n",
    "ttest2=0.05\n",
    "pval=stats.t.sf(ttest2,n-1)-stats.t.sf(ttest1,n-1)\n",
    "print('probability in the range (-0.05 < t < 0.1) is : ',pval)"
   ]
  },
  {
   "cell_type": "markdown",
   "metadata": {},
   "source": [
    "#### Problem statement 11:"
   ]
  },
  {
   "cell_type": "markdown",
   "metadata": {},
   "source": [
    "Two-tailed test for difference between two population means<br>\n",
    "Is there evidence to conclude that the number of people travelling from Banglore to chennai is different from the number of people travelling from Bangalore to Hosur in a week, given the following:<br>\n",
    "Population 1: Bangalore to Chennai n1=1200<br>\n",
    "x1=452<br>\n",
    "s1=212<br>\n",
    "Population 2: Bangalore to Hosur n2 = 800<br>\n",
    "x2=523<br>\n",
    "s2=185\n"
   ]
  },
  {
   "cell_type": "markdown",
   "metadata": {},
   "source": [
    "#### Solution"
   ]
  },
  {
   "cell_type": "code",
   "execution_count": 9,
   "metadata": {},
   "outputs": [
    {
     "name": "stdout",
     "output_type": "stream",
     "text": [
      "reject null hypothesis\n"
     ]
    }
   ],
   "source": [
    "import math\n",
    "import scipy\n",
    "from scipy import special\n",
    "n1=1200\n",
    "x1=452\n",
    "s1=212\n",
    "n2=800\n",
    "x2=523\n",
    "s2=185\n",
    "\n",
    "# Hypothesis:\n",
    "# H0:x1=x2\n",
    "# H1:x1!x2\n",
    "\n",
    "se=math.sqrt(s1*s1/n1+s2*s2/n2)\n",
    "z=(x1-x2)/se\n",
    "#print(z)\n",
    "pval=scipy.special.ndtr(z)\n",
    "#print(pval)\n",
    "if pval<0.025:\n",
    "    print('reject null hypothesis')\n",
    "    \n",
    "if pval>0.025:\n",
    "    print('accept null hypothesis')"
   ]
  },
  {
   "cell_type": "markdown",
   "metadata": {},
   "source": [
    "#### Problem statement 12:"
   ]
  },
  {
   "cell_type": "markdown",
   "metadata": {},
   "source": [
    "Is there a evidence to conclude that the number of people preferring Duracell battery is different from the number of people preferring Energizer battery, given the following:<br>\n",
    "Population 1: <br>\n",
    "n1=100<br>\n",
    "x1=308<br>\n",
    "s1=84<br>\n",
    "Population 2: <br>\n",
    "n2=100<br>\n",
    "x2=254<br>\n",
    "s2=67\n"
   ]
  },
  {
   "cell_type": "markdown",
   "metadata": {},
   "source": [
    "#### Solution"
   ]
  },
  {
   "cell_type": "code",
   "execution_count": 10,
   "metadata": {},
   "outputs": [
    {
     "name": "stdout",
     "output_type": "stream",
     "text": [
      "reject null hypothesis\n"
     ]
    }
   ],
   "source": [
    "import math\n",
    "import scipy\n",
    "from scipy import special\n",
    "n1=100\n",
    "x1=308\n",
    "s1=84\n",
    "n2=100\n",
    "x2=254\n",
    "s2=67\n",
    "\n",
    "# Hypothesis:\n",
    "# H0:x1=x2\n",
    "# H1:x1!x2\n",
    "\n",
    "se=math.sqrt(s1*s1/n1+s2*s2/n2)\n",
    "z=(x1-x2)/se\n",
    "#print(z)\n",
    "pval=scipy.special.ndtr(-z)\n",
    "#print(pval)\n",
    "if pval<0.025:\n",
    "    print('reject null hypothesis')\n",
    "    \n",
    "if pval>0.025:\n",
    "    print('accept null hypothesis')"
   ]
  },
  {
   "cell_type": "markdown",
   "metadata": {},
   "source": [
    "#### Problem statement 13:\n"
   ]
  },
  {
   "cell_type": "markdown",
   "metadata": {},
   "source": [
    "Pooled estimate of the population variance<br>\n",
    "Does the data provide sufficient evidence to conclude that average percentage increase in the price of sugar differs when it is sold at two different prices?<br>\n",
    "Population 1:Price of sugar=Rs. 27.50 n1=14 <br>\n",
    "x1=0.317%<br>\n",
    "s1=0.12%<br>\n",
    "Population 1:Price of sugar=Rs. 20.00 n2=9 <br>\n",
    "x2=0.21%<br>\n",
    "s2=0.11%\n"
   ]
  },
  {
   "cell_type": "markdown",
   "metadata": {},
   "source": [
    "#### Solution"
   ]
  },
  {
   "cell_type": "code",
   "execution_count": 11,
   "metadata": {},
   "outputs": [
    {
     "name": "stdout",
     "output_type": "stream",
     "text": [
      "reject null hypothesis\n"
     ]
    }
   ],
   "source": [
    "import math\n",
    "import scipy\n",
    "from scipy import special\n",
    "n1=14\n",
    "x1=8.7175\n",
    "s1=3.3\n",
    "n2=9\n",
    "x2=4.2\n",
    "s2=2.2\n",
    "\n",
    "# Hypothesis:\n",
    "# H0:x1=x2\n",
    "# H1:x1!x2\n",
    "\n",
    "se=math.sqrt(s1*s1/n1+s2*s2/n2)\n",
    "z=(x1-x2)/se\n",
    "#print(z)\n",
    "pval=scipy.special.ndtr(-z)\n",
    "#print(pval)\n",
    "if pval<0.025:\n",
    "    print('reject null hypothesis')\n",
    "    \n",
    "if pval>0.025:\n",
    "    print('accept null hypothesis')"
   ]
  },
  {
   "cell_type": "markdown",
   "metadata": {},
   "source": [
    "#### Problem statement 14:"
   ]
  },
  {
   "cell_type": "markdown",
   "metadata": {},
   "source": [
    "The manufacturers of compact disk players want to test whether a small price reduction is enough to increase sales of their product. Is there evidence that the small price reduction is enough to increase sales of compact disk players?<br>\n",
    "population 1: Before reduction<br>\n",
    "n1=15<br>\n",
    "x1=6598<br>\n",
    "s1=844<br>\n",
    "population 1: After reduction<br>\n",
    "n2=12<br>\n",
    "x2=6870<br>\n",
    "s2=669"
   ]
  },
  {
   "cell_type": "markdown",
   "metadata": {},
   "source": [
    "#### Solution"
   ]
  },
  {
   "cell_type": "code",
   "execution_count": 12,
   "metadata": {},
   "outputs": [
    {
     "name": "stdout",
     "output_type": "stream",
     "text": [
      "accept null hypothesis\n"
     ]
    }
   ],
   "source": [
    "import math\n",
    "import scipy\n",
    "from scipy import special\n",
    "n1=15\n",
    "x1=6598\n",
    "s1=844\n",
    "n2=12\n",
    "x2=6870\n",
    "s2=669\n",
    "\n",
    "# Hypothesis:\n",
    "# H0:x1=x2\n",
    "# H1:x1!x2\n",
    "\n",
    "se=math.sqrt(s1*s1/n1+s2*s2/n2)\n",
    "z=(x1-x2)/se\n",
    "#print(z)\n",
    "pval=scipy.special.ndtr(z)\n",
    "#print(pval)\n",
    "if pval<0.025:\n",
    "    print('reject null hypothesis')\n",
    "    \n",
    "if pval>0.025:\n",
    "    print('accept null hypothesis')"
   ]
  },
  {
   "cell_type": "markdown",
   "metadata": {},
   "source": [
    "#### Problem statement 17:"
   ]
  },
  {
   "cell_type": "markdown",
   "metadata": {},
   "source": [
    "A die is thrown 132 times with the following results: Number turned up :1,2,3,4,5,6 Frequency: 16,20,25,14,29,28 Is the die biased? Consider the degree of freedom as p-1"
   ]
  },
  {
   "cell_type": "markdown",
   "metadata": {},
   "source": [
    "#### Solution"
   ]
  },
  {
   "cell_type": "code",
   "execution_count": 13,
   "metadata": {},
   "outputs": [
    {
     "name": "stdout",
     "output_type": "stream",
     "text": [
      "dice is not biased\n"
     ]
    }
   ],
   "source": [
    "from scipy.stats import chi2_contingency\n",
    "from scipy.stats import chi2\n",
    "import numpy as np\n",
    "\n",
    "a=[16,20,25,14,29,28]\n",
    "ov=np.array(a) #observed values\n",
    "#print(ov)\n",
    "val=stats.chi2_contingency(a)\n",
    "#print(val)\n",
    "ev=val[3] #expected values\n",
    "#print(ev)\n",
    "dof=1\n",
    "\n",
    "x=sum([(o-e)**2/e for o,e in zip(ov,ev)])\n",
    "#print(x)\n",
    "chi_square=x\n",
    "#print(\"chi square value is: \",chi_square)\n",
    "\n",
    "#to find p value\n",
    "pval=chi2.cdf(x=chi_square,df=dof)\n",
    "#print('probability is :',pval)\n",
    "if pval<0.05:\n",
    "    print('dice is not biased')\n",
    "    \n",
    "else:\n",
    "    print('dice is biased')"
   ]
  },
  {
   "cell_type": "markdown",
   "metadata": {},
   "source": [
    "#### Problem statement 18:"
   ]
  },
  {
   "cell_type": "markdown",
   "metadata": {},
   "source": [
    "In a certain town, there are about one million eligible voters. A simple random sample of 10000 eligible voters was chosen to study the relatioship between gender and participation in the last election. The results are summarized in the following table:<br>\n",
    "\n",
    "|    | Men | Women | \n",
    "| --- | ---| --- |\n",
    "| voted | 2792 | 3591 |\n",
    "| Non voted | 1486 | 2131 | <br>\n",
    "\n",
    "We would want to check whether being a man or a woman is independent of having voted in the last election. In other words, is 'gender and voting independent'?"
   ]
  },
  {
   "cell_type": "code",
   "execution_count": 14,
   "metadata": {},
   "outputs": [
    {
     "name": "stdout",
     "output_type": "stream",
     "text": [
      "man or woman is dependent of having voted in the last election\n"
     ]
    }
   ],
   "source": [
    "from scipy.stats import chi2_contingency\n",
    "from scipy.stats import chi2\n",
    "import numpy as np\n",
    "\n",
    "table=[[2792,1486],\n",
    "       [3591,2131]]\n",
    "ov=np.array(table) #observed values\n",
    "val=stats.chi2_contingency(table)\n",
    "#print(val)\n",
    "ev=val[3] #expected values\n",
    "dof=1\n",
    "\n",
    "x=sum([(o-e)**2/e for o,e in zip(ov,ev)])\n",
    "chi_square=x[0]+x[1]\n",
    "#print(\"chi square value is: \",chi_square)\n",
    "\n",
    "#to find p value\n",
    "pval=chi2.cdf(x=chi_square,df=dof)\n",
    "#print('probability is :',pval)\n",
    "if pval<0.05:\n",
    "    print('man or woman is independent of having voted in the last election')\n",
    "    \n",
    "else:\n",
    "    print('man or woman is dependent of having voted in the last election')"
   ]
  },
  {
   "cell_type": "markdown",
   "metadata": {},
   "source": [
    "#### Problem statement 19:"
   ]
  },
  {
   "cell_type": "markdown",
   "metadata": {},
   "source": [
    "A sample of 100 voters are asked which of four candidates they would vote for in an election. The number supporting each candidate is given below:<br>\n",
    "\n",
    "| Higgins | Reardon | White | Charlton |\n",
    "|---|---|---|---|\n",
    "| 41      | 19      | 24    | 16       |\n",
    "\n",
    "<br>Do the data suggest that all candidates are equally popular?[chi-square=14.96 with 3df,p=0.05]"
   ]
  },
  {
   "cell_type": "markdown",
   "metadata": {},
   "source": [
    "#### Solution"
   ]
  },
  {
   "cell_type": "code",
   "execution_count": 15,
   "metadata": {},
   "outputs": [
    {
     "name": "stdout",
     "output_type": "stream",
     "text": [
      "candidates are equally popular\n"
     ]
    }
   ],
   "source": [
    "from scipy.stats import chi2_contingency\n",
    "from scipy.stats import chi2\n",
    "chi_square=14.96\n",
    "dof=3\n",
    "pval=chi2.cdf(x=chi_square,df=dof)\n",
    "if pval<0.05:\n",
    "    print('candidates are not equally popular')\n",
    "    \n",
    "else:\n",
    "    print('candidates are equally popular')"
   ]
  },
  {
   "cell_type": "markdown",
   "metadata": {},
   "source": [
    "#### Problem statement 20:"
   ]
  },
  {
   "cell_type": "markdown",
   "metadata": {},
   "source": [
    "Children of three ages are asked to indicate their preference for three photographs of adults. Do the data suggest that there is a significant relationship between age and photograph preference? what is wrong with this study?[chi_square=29.6 with 4 df,a<0.05]<br>\n",
    "\n",
    "\n",
    "|  | | photograph| | |\n",
    "|---|---|---|---|---|\n",
    "|  | | A | B | C |\n",
    "| Age of child | 5-6 years | 18 | 22 | 20 |\n",
    "|  | 7-8 years | 2 | 28 | 40 |\n",
    "|  | 9-10 years | 20 | 10 | 40 |\n",
    "\n"
   ]
  },
  {
   "cell_type": "code",
   "execution_count": 16,
   "metadata": {},
   "outputs": [
    {
     "name": "stdout",
     "output_type": "stream",
     "text": [
      "Significant relation\n"
     ]
    }
   ],
   "source": [
    "from scipy.stats import chi2_contingency\n",
    "from scipy.stats import chi2\n",
    "chi_square=29.6\n",
    "dof=3\n",
    "pval=chi2.cdf(x=chi_square,df=dof)\n",
    "if pval<0.05:\n",
    "    print('No significant relation')\n",
    "    \n",
    "else:\n",
    "    print('Significant relation')"
   ]
  },
  {
   "cell_type": "markdown",
   "metadata": {},
   "source": [
    "#### Problem statement 21:"
   ]
  },
  {
   "cell_type": "markdown",
   "metadata": {},
   "source": [
    "A study of conformity using the Asch paradigm involved two conditions: one where one confederate supported the true judgement and another where no confederate gave the correct response.<br>\n",
    "\n",
    "|  | Support | No support |\n",
    "|---|---|---|\n",
    "|conform| 18| 40|\n",
    "|Not conform| 32| 10|\n",
    "\n",
    "Is there a significant difference between the \"support\" and \"no support\" coditions in the frequency with which individuals are likely to conform?[chi_square=19.87 with 1 df,a<0.05]"
   ]
  },
  {
   "cell_type": "markdown",
   "metadata": {},
   "source": [
    "#### Solution"
   ]
  },
  {
   "cell_type": "code",
   "execution_count": 17,
   "metadata": {},
   "outputs": [
    {
     "name": "stdout",
     "output_type": "stream",
     "text": [
      "significant difference between support and no support\n"
     ]
    }
   ],
   "source": [
    "from scipy.stats import chi2_contingency\n",
    "from scipy.stats import chi2\n",
    "chi_square=19.87\n",
    "dof=3\n",
    "pval=chi2.cdf(x=chi_square,df=dof)\n",
    "if pval<0.05:\n",
    "    print('No significant difference between support and no support')\n",
    "    \n",
    "else:\n",
    "    print('significant difference between support and no support')"
   ]
  },
  {
   "cell_type": "markdown",
   "metadata": {},
   "source": [
    "#### Problem statement 22:"
   ]
  },
  {
   "cell_type": "markdown",
   "metadata": {},
   "source": [
    "We want to test whether short people differ with respect to their leadership qualities (Genghis khan, Adolf Hitler and Napoleon were all stature deprived, and how many midget MP's are there?) The following table shows the frequencies with which 43 short people and 52 tall people were categorized as \"leaders\" , \"followere\" or as \"unclassifiable\".Is there a relationship between height and leadeship qualities?[chi_square=10.71 with 1 df,a<0.01]<br>\n",
    "\n",
    "| |Height | |\n",
    "|--- |--- | ---|\n",
    "| | Short|Tall |\n",
    "|Leader|12|32|\n",
    "|Follower|22|14|\n",
    "|unclassifiable|9|6|"
   ]
  },
  {
   "cell_type": "code",
   "execution_count": 18,
   "metadata": {},
   "outputs": [
    {
     "name": "stdout",
     "output_type": "stream",
     "text": [
      "No Significant Relationship between height and leadeship qualities\n"
     ]
    }
   ],
   "source": [
    "from scipy.stats import chi2_contingency\n",
    "from scipy.stats import chi2\n",
    "chi_square=10.71\n",
    "dof=1\n",
    "pval=chi2.cdf(x=chi_square,df=dof)\n",
    "if pval<0.05:\n",
    "    print('Significant Relationship between height and leadeship qualities')\n",
    "    \n",
    "else:\n",
    "    print('No Significant Relationship between height and leadeship qualities')"
   ]
  },
  {
   "cell_type": "code",
   "execution_count": null,
   "metadata": {},
   "outputs": [],
   "source": []
  }
 ],
 "metadata": {
  "kernelspec": {
   "display_name": "Python 3",
   "language": "python",
   "name": "python3"
  },
  "language_info": {
   "codemirror_mode": {
    "name": "ipython",
    "version": 3
   },
   "file_extension": ".py",
   "mimetype": "text/x-python",
   "name": "python",
   "nbconvert_exporter": "python",
   "pygments_lexer": "ipython3",
   "version": "3.7.6"
  }
 },
 "nbformat": 4,
 "nbformat_minor": 4
}
