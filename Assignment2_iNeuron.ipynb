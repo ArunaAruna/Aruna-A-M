{
 "cells": [
  {
   "cell_type": "markdown",
   "metadata": {},
   "source": [
    "5. Create below pattern using nested for loop in Python<br>\n",
    "   $*$<br>\n",
    "   $* *$<br>\n",
    "   $* * *$<br>\n",
    "   $* * * *$<br>\n",
    "   $* * * * *$<br>\n",
    "   $* * * *$<br>\n",
    "   $* * *$<br>\n",
    "   $* *$<br>\n",
    "   $*$"
   ]
  },
  {
   "cell_type": "code",
   "execution_count": 1,
   "metadata": {},
   "outputs": [
    {
     "name": "stdout",
     "output_type": "stream",
     "text": [
      "* \n",
      "\n",
      "* * \n",
      "\n",
      "* * * \n",
      "\n",
      "* * * * \n",
      "\n",
      "* * * * * \n",
      "\n",
      "* * * * \n",
      "\n",
      "* * * \n",
      "\n",
      "* * \n",
      "\n",
      "* \n",
      "\n"
     ]
    }
   ],
   "source": [
    "for x in range(1,6):\n",
    "    for y in range(1,6):\n",
    "        if (y<=x):\n",
    "            print('*',end=' ')\n",
    "        y=y+1\n",
    "    x+=1\n",
    "    print('\\n')\n",
    "for a in range(1,5):\n",
    "    for b in range(1,5):\n",
    "        if ((5-b)>=a):\n",
    "            print('*',end=' ')\n",
    "        b+=1\n",
    "    a+=1\n",
    "    print('\\n')"
   ]
  },
  {
   "cell_type": "markdown",
   "metadata": {},
   "source": [
    "6. Write a program to reverse a word after accepting the input from user<br>\n",
    "Sample Output:<br>\n",
    "input word:ineuron<br>\n",
    "output word:norueni\n"
   ]
  },
  {
   "cell_type": "code",
   "execution_count": 3,
   "metadata": {},
   "outputs": [
    {
     "name": "stdout",
     "output_type": "stream",
     "text": [
      "Enter the word which you want to reverse: ineuron\n",
      "norueni\n"
     ]
    }
   ],
   "source": [
    "word=input('Enter the word which you want to reverse: ')\n",
    "new_word=word[::-1]\n",
    "print(new_word)"
   ]
  },
  {
   "cell_type": "code",
   "execution_count": null,
   "metadata": {},
   "outputs": [],
   "source": []
  }
 ],
 "metadata": {
  "kernelspec": {
   "display_name": "Python 3",
   "language": "python",
   "name": "python3"
  },
  "language_info": {
   "codemirror_mode": {
    "name": "ipython",
    "version": 3
   },
   "file_extension": ".py",
   "mimetype": "text/x-python",
   "name": "python",
   "nbconvert_exporter": "python",
   "pygments_lexer": "ipython3",
   "version": "3.7.6"
  }
 },
 "nbformat": 4,
 "nbformat_minor": 4
}
